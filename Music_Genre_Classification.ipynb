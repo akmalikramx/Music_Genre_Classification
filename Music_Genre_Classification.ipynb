{
  "nbformat": 4,
  "nbformat_minor": 0,
  "metadata": {
    "kernelspec": {
      "display_name": "Python 3",
      "language": "python",
      "name": "python3"
    },
    "language_info": {
      "codemirror_mode": {
        "name": "ipython",
        "version": 3
      },
      "file_extension": ".py",
      "mimetype": "text/x-python",
      "name": "python",
      "nbconvert_exporter": "python",
      "pygments_lexer": "ipython3",
      "version": "3.7.0"
    },
    "colab": {
      "name": "Copy of Music_Genre_Classification.ipynb",
      "provenance": [],
      "collapsed_sections": []
    }
  },
  "cells": [
    {
      "cell_type": "code",
      "metadata": {
        "colab": {
          "base_uri": "https://localhost:8080/"
        },
        "id": "pYHpwy4ix2fj",
        "outputId": "fb9804d7-cfbd-4c78-e3fc-269330192f97"
      },
      "source": [
        "from google.colab import drive\n",
        "drive.mount('/content/drive')"
      ],
      "execution_count": null,
      "outputs": [
        {
          "output_type": "stream",
          "name": "stdout",
          "text": [
            "Mounted at /content/drive\n"
          ]
        }
      ]
    },
    {
      "cell_type": "code",
      "metadata": {
        "id": "1Ncm3BXIxUE3"
      },
      "source": [
        "import os\n",
        "Root = \"/content/drive/MyDrive/Colab_Notebook/Music_Genre_Classification\"\n",
        "os.chdir(Root)"
      ],
      "execution_count": null,
      "outputs": []
    },
    {
      "cell_type": "markdown",
      "metadata": {
        "id": "jwBBqDXqUCru"
      },
      "source": [
        "[Dataset](https://www.kaggle.com/andradaolteanu/gtzan-dataset-music-genre-classification)"
      ]
    },
    {
      "cell_type": "code",
      "metadata": {
        "execution": {
          "iopub.execute_input": "2021-06-24T12:25:44.470678Z",
          "iopub.status.busy": "2021-06-24T12:25:44.470224Z",
          "iopub.status.idle": "2021-06-24T12:25:44.479810Z",
          "shell.execute_reply": "2021-06-24T12:25:44.478249Z",
          "shell.execute_reply.started": "2021-06-24T12:25:44.470642Z"
        },
        "id": "Rb3qpe0ZxRDN"
      },
      "source": [
        "import pandas as pd\n",
        "import numpy as np\n",
        "import os\n",
        "import IPython.display as ipd\n",
        "import librosa\n",
        "import librosa.display\n",
        "import matplotlib.pyplot as plt\n",
        "%matplotlib inline"
      ],
      "execution_count": null,
      "outputs": []
    },
    {
      "cell_type": "code",
      "metadata": {
        "execution": {
          "iopub.execute_input": "2021-06-24T12:25:44.959507Z",
          "iopub.status.busy": "2021-06-24T12:25:44.959086Z",
          "iopub.status.idle": "2021-06-24T12:25:45.018214Z",
          "shell.execute_reply": "2021-06-24T12:25:45.017166Z",
          "shell.execute_reply.started": "2021-06-24T12:25:44.959466Z"
        },
        "colab": {
          "base_uri": "https://localhost:8080/",
          "height": 222
        },
        "id": "-HdNI7kbxRDR",
        "outputId": "3a35855a-f66e-49eb-f63a-3f29ab219d05"
      },
      "source": [
        "audio_dataset_path='/content/drive/MyDrive/Colab_Notebook/Music_Genre_Classification/Data/genres_original'\n",
        "metadata=pd.read_csv('/content/drive/MyDrive/Colab_Notebook/Music_Genre_Classification/Data/features_30_sec.csv')\n",
        "metadata.head()"
      ],
      "execution_count": null,
      "outputs": [
        {
          "output_type": "execute_result",
          "data": {
            "text/html": [
              "<div>\n",
              "<style scoped>\n",
              "    .dataframe tbody tr th:only-of-type {\n",
              "        vertical-align: middle;\n",
              "    }\n",
              "\n",
              "    .dataframe tbody tr th {\n",
              "        vertical-align: top;\n",
              "    }\n",
              "\n",
              "    .dataframe thead th {\n",
              "        text-align: right;\n",
              "    }\n",
              "</style>\n",
              "<table border=\"1\" class=\"dataframe\">\n",
              "  <thead>\n",
              "    <tr style=\"text-align: right;\">\n",
              "      <th></th>\n",
              "      <th>filename</th>\n",
              "      <th>length</th>\n",
              "      <th>chroma_stft_mean</th>\n",
              "      <th>chroma_stft_var</th>\n",
              "      <th>rms_mean</th>\n",
              "      <th>rms_var</th>\n",
              "      <th>spectral_centroid_mean</th>\n",
              "      <th>spectral_centroid_var</th>\n",
              "      <th>spectral_bandwidth_mean</th>\n",
              "      <th>spectral_bandwidth_var</th>\n",
              "      <th>rolloff_mean</th>\n",
              "      <th>rolloff_var</th>\n",
              "      <th>zero_crossing_rate_mean</th>\n",
              "      <th>zero_crossing_rate_var</th>\n",
              "      <th>harmony_mean</th>\n",
              "      <th>harmony_var</th>\n",
              "      <th>perceptr_mean</th>\n",
              "      <th>perceptr_var</th>\n",
              "      <th>tempo</th>\n",
              "      <th>mfcc1_mean</th>\n",
              "      <th>mfcc1_var</th>\n",
              "      <th>mfcc2_mean</th>\n",
              "      <th>mfcc2_var</th>\n",
              "      <th>mfcc3_mean</th>\n",
              "      <th>mfcc3_var</th>\n",
              "      <th>mfcc4_mean</th>\n",
              "      <th>mfcc4_var</th>\n",
              "      <th>mfcc5_mean</th>\n",
              "      <th>mfcc5_var</th>\n",
              "      <th>mfcc6_mean</th>\n",
              "      <th>mfcc6_var</th>\n",
              "      <th>mfcc7_mean</th>\n",
              "      <th>mfcc7_var</th>\n",
              "      <th>mfcc8_mean</th>\n",
              "      <th>mfcc8_var</th>\n",
              "      <th>mfcc9_mean</th>\n",
              "      <th>mfcc9_var</th>\n",
              "      <th>mfcc10_mean</th>\n",
              "      <th>mfcc10_var</th>\n",
              "      <th>mfcc11_mean</th>\n",
              "      <th>mfcc11_var</th>\n",
              "      <th>mfcc12_mean</th>\n",
              "      <th>mfcc12_var</th>\n",
              "      <th>mfcc13_mean</th>\n",
              "      <th>mfcc13_var</th>\n",
              "      <th>mfcc14_mean</th>\n",
              "      <th>mfcc14_var</th>\n",
              "      <th>mfcc15_mean</th>\n",
              "      <th>mfcc15_var</th>\n",
              "      <th>mfcc16_mean</th>\n",
              "      <th>mfcc16_var</th>\n",
              "      <th>mfcc17_mean</th>\n",
              "      <th>mfcc17_var</th>\n",
              "      <th>mfcc18_mean</th>\n",
              "      <th>mfcc18_var</th>\n",
              "      <th>mfcc19_mean</th>\n",
              "      <th>mfcc19_var</th>\n",
              "      <th>mfcc20_mean</th>\n",
              "      <th>mfcc20_var</th>\n",
              "      <th>label</th>\n",
              "    </tr>\n",
              "  </thead>\n",
              "  <tbody>\n",
              "    <tr>\n",
              "      <th>0</th>\n",
              "      <td>blues.00000.wav</td>\n",
              "      <td>661794</td>\n",
              "      <td>0.350088</td>\n",
              "      <td>0.088757</td>\n",
              "      <td>0.130228</td>\n",
              "      <td>0.002827</td>\n",
              "      <td>1784.165850</td>\n",
              "      <td>129774.064525</td>\n",
              "      <td>2002.449060</td>\n",
              "      <td>85882.761315</td>\n",
              "      <td>3805.839606</td>\n",
              "      <td>9.015054e+05</td>\n",
              "      <td>0.083045</td>\n",
              "      <td>0.000767</td>\n",
              "      <td>-4.529724e-05</td>\n",
              "      <td>0.008172</td>\n",
              "      <td>0.000008</td>\n",
              "      <td>0.005698</td>\n",
              "      <td>123.046875</td>\n",
              "      <td>-113.570648</td>\n",
              "      <td>2564.207520</td>\n",
              "      <td>121.571793</td>\n",
              "      <td>295.913818</td>\n",
              "      <td>-19.168142</td>\n",
              "      <td>235.574432</td>\n",
              "      <td>42.366421</td>\n",
              "      <td>151.106873</td>\n",
              "      <td>-6.364664</td>\n",
              "      <td>167.934799</td>\n",
              "      <td>18.623499</td>\n",
              "      <td>89.180840</td>\n",
              "      <td>-13.704891</td>\n",
              "      <td>67.660492</td>\n",
              "      <td>15.343150</td>\n",
              "      <td>68.932579</td>\n",
              "      <td>-12.274110</td>\n",
              "      <td>82.204201</td>\n",
              "      <td>10.976572</td>\n",
              "      <td>63.386311</td>\n",
              "      <td>-8.326573</td>\n",
              "      <td>61.773094</td>\n",
              "      <td>8.803792</td>\n",
              "      <td>51.244125</td>\n",
              "      <td>-3.672300</td>\n",
              "      <td>41.217415</td>\n",
              "      <td>5.747995</td>\n",
              "      <td>40.554478</td>\n",
              "      <td>-5.162882</td>\n",
              "      <td>49.775421</td>\n",
              "      <td>0.752740</td>\n",
              "      <td>52.420910</td>\n",
              "      <td>-1.690215</td>\n",
              "      <td>36.524071</td>\n",
              "      <td>-0.408979</td>\n",
              "      <td>41.597103</td>\n",
              "      <td>-2.303523</td>\n",
              "      <td>55.062923</td>\n",
              "      <td>1.221291</td>\n",
              "      <td>46.936035</td>\n",
              "      <td>blues</td>\n",
              "    </tr>\n",
              "    <tr>\n",
              "      <th>1</th>\n",
              "      <td>blues.00001.wav</td>\n",
              "      <td>661794</td>\n",
              "      <td>0.340914</td>\n",
              "      <td>0.094980</td>\n",
              "      <td>0.095948</td>\n",
              "      <td>0.002373</td>\n",
              "      <td>1530.176679</td>\n",
              "      <td>375850.073649</td>\n",
              "      <td>2039.036516</td>\n",
              "      <td>213843.755497</td>\n",
              "      <td>3550.522098</td>\n",
              "      <td>2.977893e+06</td>\n",
              "      <td>0.056040</td>\n",
              "      <td>0.001448</td>\n",
              "      <td>1.395807e-04</td>\n",
              "      <td>0.005099</td>\n",
              "      <td>-0.000178</td>\n",
              "      <td>0.003063</td>\n",
              "      <td>67.999589</td>\n",
              "      <td>-207.501694</td>\n",
              "      <td>7764.555176</td>\n",
              "      <td>123.991264</td>\n",
              "      <td>560.259949</td>\n",
              "      <td>8.955127</td>\n",
              "      <td>572.810913</td>\n",
              "      <td>35.877647</td>\n",
              "      <td>264.506104</td>\n",
              "      <td>2.907320</td>\n",
              "      <td>279.932922</td>\n",
              "      <td>21.510466</td>\n",
              "      <td>156.477097</td>\n",
              "      <td>-8.560436</td>\n",
              "      <td>200.849182</td>\n",
              "      <td>23.370686</td>\n",
              "      <td>142.555954</td>\n",
              "      <td>-10.099661</td>\n",
              "      <td>166.108521</td>\n",
              "      <td>11.900497</td>\n",
              "      <td>104.358612</td>\n",
              "      <td>-5.555639</td>\n",
              "      <td>105.173630</td>\n",
              "      <td>5.376327</td>\n",
              "      <td>96.197212</td>\n",
              "      <td>-2.231760</td>\n",
              "      <td>64.914291</td>\n",
              "      <td>4.220140</td>\n",
              "      <td>73.152534</td>\n",
              "      <td>-6.012148</td>\n",
              "      <td>52.422142</td>\n",
              "      <td>0.927998</td>\n",
              "      <td>55.356403</td>\n",
              "      <td>-0.731125</td>\n",
              "      <td>60.314529</td>\n",
              "      <td>0.295073</td>\n",
              "      <td>48.120598</td>\n",
              "      <td>-0.283518</td>\n",
              "      <td>51.106190</td>\n",
              "      <td>0.531217</td>\n",
              "      <td>45.786282</td>\n",
              "      <td>blues</td>\n",
              "    </tr>\n",
              "    <tr>\n",
              "      <th>2</th>\n",
              "      <td>blues.00002.wav</td>\n",
              "      <td>661794</td>\n",
              "      <td>0.363637</td>\n",
              "      <td>0.085275</td>\n",
              "      <td>0.175570</td>\n",
              "      <td>0.002746</td>\n",
              "      <td>1552.811865</td>\n",
              "      <td>156467.643368</td>\n",
              "      <td>1747.702312</td>\n",
              "      <td>76254.192257</td>\n",
              "      <td>3042.260232</td>\n",
              "      <td>7.840345e+05</td>\n",
              "      <td>0.076291</td>\n",
              "      <td>0.001007</td>\n",
              "      <td>2.105576e-06</td>\n",
              "      <td>0.016342</td>\n",
              "      <td>-0.000019</td>\n",
              "      <td>0.007458</td>\n",
              "      <td>161.499023</td>\n",
              "      <td>-90.722595</td>\n",
              "      <td>3319.044922</td>\n",
              "      <td>140.446304</td>\n",
              "      <td>508.765045</td>\n",
              "      <td>-29.093889</td>\n",
              "      <td>411.781219</td>\n",
              "      <td>31.684334</td>\n",
              "      <td>144.090317</td>\n",
              "      <td>-13.984504</td>\n",
              "      <td>155.493759</td>\n",
              "      <td>25.764742</td>\n",
              "      <td>74.548401</td>\n",
              "      <td>-13.664875</td>\n",
              "      <td>106.981827</td>\n",
              "      <td>11.639934</td>\n",
              "      <td>106.574875</td>\n",
              "      <td>-11.783643</td>\n",
              "      <td>65.447945</td>\n",
              "      <td>9.718760</td>\n",
              "      <td>67.908859</td>\n",
              "      <td>-13.133803</td>\n",
              "      <td>57.781425</td>\n",
              "      <td>5.791199</td>\n",
              "      <td>64.480209</td>\n",
              "      <td>-8.907628</td>\n",
              "      <td>60.385151</td>\n",
              "      <td>-1.077000</td>\n",
              "      <td>57.711136</td>\n",
              "      <td>-9.229274</td>\n",
              "      <td>36.580986</td>\n",
              "      <td>2.451690</td>\n",
              "      <td>40.598766</td>\n",
              "      <td>-7.729093</td>\n",
              "      <td>47.639427</td>\n",
              "      <td>-1.816407</td>\n",
              "      <td>52.382141</td>\n",
              "      <td>-3.439720</td>\n",
              "      <td>46.639660</td>\n",
              "      <td>-2.231258</td>\n",
              "      <td>30.573025</td>\n",
              "      <td>blues</td>\n",
              "    </tr>\n",
              "    <tr>\n",
              "      <th>3</th>\n",
              "      <td>blues.00003.wav</td>\n",
              "      <td>661794</td>\n",
              "      <td>0.404785</td>\n",
              "      <td>0.093999</td>\n",
              "      <td>0.141093</td>\n",
              "      <td>0.006346</td>\n",
              "      <td>1070.106615</td>\n",
              "      <td>184355.942417</td>\n",
              "      <td>1596.412872</td>\n",
              "      <td>166441.494769</td>\n",
              "      <td>2184.745799</td>\n",
              "      <td>1.493194e+06</td>\n",
              "      <td>0.033309</td>\n",
              "      <td>0.000423</td>\n",
              "      <td>4.583644e-07</td>\n",
              "      <td>0.019054</td>\n",
              "      <td>-0.000014</td>\n",
              "      <td>0.002712</td>\n",
              "      <td>63.024009</td>\n",
              "      <td>-199.544205</td>\n",
              "      <td>5507.517090</td>\n",
              "      <td>150.090897</td>\n",
              "      <td>456.505402</td>\n",
              "      <td>5.662678</td>\n",
              "      <td>257.161163</td>\n",
              "      <td>26.859079</td>\n",
              "      <td>158.267303</td>\n",
              "      <td>1.771399</td>\n",
              "      <td>268.034393</td>\n",
              "      <td>14.234031</td>\n",
              "      <td>126.794128</td>\n",
              "      <td>-4.832006</td>\n",
              "      <td>155.912079</td>\n",
              "      <td>9.286494</td>\n",
              "      <td>81.273743</td>\n",
              "      <td>-0.759186</td>\n",
              "      <td>92.114090</td>\n",
              "      <td>8.137607</td>\n",
              "      <td>71.314079</td>\n",
              "      <td>-3.200653</td>\n",
              "      <td>110.236687</td>\n",
              "      <td>6.079319</td>\n",
              "      <td>48.251999</td>\n",
              "      <td>-2.480174</td>\n",
              "      <td>56.799400</td>\n",
              "      <td>-1.079305</td>\n",
              "      <td>62.289902</td>\n",
              "      <td>-2.870789</td>\n",
              "      <td>51.651592</td>\n",
              "      <td>0.780874</td>\n",
              "      <td>44.427753</td>\n",
              "      <td>-3.319597</td>\n",
              "      <td>50.206673</td>\n",
              "      <td>0.636965</td>\n",
              "      <td>37.319130</td>\n",
              "      <td>-0.619121</td>\n",
              "      <td>37.259739</td>\n",
              "      <td>-3.407448</td>\n",
              "      <td>31.949339</td>\n",
              "      <td>blues</td>\n",
              "    </tr>\n",
              "    <tr>\n",
              "      <th>4</th>\n",
              "      <td>blues.00004.wav</td>\n",
              "      <td>661794</td>\n",
              "      <td>0.308526</td>\n",
              "      <td>0.087841</td>\n",
              "      <td>0.091529</td>\n",
              "      <td>0.002303</td>\n",
              "      <td>1835.004266</td>\n",
              "      <td>343399.939274</td>\n",
              "      <td>1748.172116</td>\n",
              "      <td>88445.209036</td>\n",
              "      <td>3579.757627</td>\n",
              "      <td>1.572978e+06</td>\n",
              "      <td>0.101461</td>\n",
              "      <td>0.001954</td>\n",
              "      <td>-1.756129e-05</td>\n",
              "      <td>0.004814</td>\n",
              "      <td>-0.000010</td>\n",
              "      <td>0.003094</td>\n",
              "      <td>135.999178</td>\n",
              "      <td>-160.337708</td>\n",
              "      <td>5195.291992</td>\n",
              "      <td>126.219635</td>\n",
              "      <td>853.784729</td>\n",
              "      <td>-35.587811</td>\n",
              "      <td>333.792938</td>\n",
              "      <td>22.148071</td>\n",
              "      <td>193.456100</td>\n",
              "      <td>-32.478600</td>\n",
              "      <td>336.276825</td>\n",
              "      <td>10.852294</td>\n",
              "      <td>134.831573</td>\n",
              "      <td>-23.352329</td>\n",
              "      <td>93.257095</td>\n",
              "      <td>0.498434</td>\n",
              "      <td>124.672127</td>\n",
              "      <td>-11.793437</td>\n",
              "      <td>130.073349</td>\n",
              "      <td>1.207256</td>\n",
              "      <td>99.675575</td>\n",
              "      <td>-13.088418</td>\n",
              "      <td>80.254066</td>\n",
              "      <td>-2.813867</td>\n",
              "      <td>86.430626</td>\n",
              "      <td>-6.933385</td>\n",
              "      <td>89.555443</td>\n",
              "      <td>-7.552725</td>\n",
              "      <td>70.943336</td>\n",
              "      <td>-9.164666</td>\n",
              "      <td>75.793404</td>\n",
              "      <td>-4.520576</td>\n",
              "      <td>86.099236</td>\n",
              "      <td>-5.454034</td>\n",
              "      <td>75.269707</td>\n",
              "      <td>-0.916874</td>\n",
              "      <td>53.613918</td>\n",
              "      <td>-4.404827</td>\n",
              "      <td>62.910812</td>\n",
              "      <td>-11.703234</td>\n",
              "      <td>55.195160</td>\n",
              "      <td>blues</td>\n",
              "    </tr>\n",
              "  </tbody>\n",
              "</table>\n",
              "</div>"
            ],
            "text/plain": [
              "          filename  length  chroma_stft_mean  ...  mfcc20_mean  mfcc20_var  label\n",
              "0  blues.00000.wav  661794          0.350088  ...     1.221291   46.936035  blues\n",
              "1  blues.00001.wav  661794          0.340914  ...     0.531217   45.786282  blues\n",
              "2  blues.00002.wav  661794          0.363637  ...    -2.231258   30.573025  blues\n",
              "3  blues.00003.wav  661794          0.404785  ...    -3.407448   31.949339  blues\n",
              "4  blues.00004.wav  661794          0.308526  ...   -11.703234   55.195160  blues\n",
              "\n",
              "[5 rows x 60 columns]"
            ]
          },
          "metadata": {},
          "execution_count": 5
        }
      ]
    },
    {
      "cell_type": "markdown",
      "metadata": {
        "id": "NAGWSEUJBK8q"
      },
      "source": [
        ""
      ]
    },
    {
      "cell_type": "code",
      "metadata": {
        "execution": {
          "iopub.execute_input": "2021-06-24T12:26:31.840546Z",
          "iopub.status.busy": "2021-06-24T12:26:31.840099Z",
          "iopub.status.idle": "2021-06-24T12:26:31.846431Z",
          "shell.execute_reply": "2021-06-24T12:26:31.845304Z",
          "shell.execute_reply.started": "2021-06-24T12:26:31.840506Z"
        },
        "id": "PjPzMgEXxRDT"
      },
      "source": [
        "def features_extractor(file):\n",
        "    audio, sample_rate = librosa.load(file_name, res_type='kaiser_fast') \n",
        "    mfccs_features = librosa.feature.mfcc(y=audio, sr=sample_rate, n_mfcc=40)\n",
        "    mfccs_scaled_features = np.mean(mfccs_features.T,axis=0)\n",
        "    \n",
        "    return mfccs_scaled_features"
      ],
      "execution_count": null,
      "outputs": []
    },
    {
      "cell_type": "code",
      "metadata": {
        "execution": {
          "iopub.execute_input": "2021-06-24T12:21:39.755837Z",
          "iopub.status.busy": "2021-06-24T12:21:39.755387Z",
          "iopub.status.idle": "2021-06-24T12:21:39.763397Z",
          "shell.execute_reply": "2021-06-24T12:21:39.762125Z",
          "shell.execute_reply.started": "2021-06-24T12:21:39.755800Z"
        },
        "id": "L-O0cGJmxRDT"
      },
      "source": [
        "# metadata.drop(labels=552, axis=0, inplace=True)"
      ],
      "execution_count": null,
      "outputs": []
    },
    {
      "cell_type": "code",
      "metadata": {
        "execution": {
          "iopub.execute_input": "2021-06-24T12:29:00.846219Z",
          "iopub.status.busy": "2021-06-24T12:29:00.845804Z",
          "iopub.status.idle": "2021-06-24T12:30:43.928238Z",
          "shell.execute_reply": "2021-06-24T12:30:43.926824Z",
          "shell.execute_reply.started": "2021-06-24T12:29:00.846178Z"
        },
        "colab": {
          "base_uri": "https://localhost:8080/"
        },
        "id": "cFb6b6RlxRDU",
        "outputId": "7d874214-590c-4fde-9936-27ab4e7f2584"
      },
      "source": [
        "from tqdm import tqdm\n",
        "### Now we iterate through every audio file and extract features \n",
        "### using Mel-Frequency Cepstral Coefficients\n",
        "\n",
        "extracted_features=[]\n",
        "for index_num,row in tqdm(metadata.iterrows()):\n",
        "    try:\n",
        "        final_class_labels=row[\"label\"]\n",
        "        file_name = os.path.join(os.path.abspath(audio_dataset_path), final_class_labels+'/',str(row[\"filename\"]))    \n",
        "        data=features_extractor(file_name)\n",
        "        extracted_features.append([data,final_class_labels])\n",
        "    except Exception as e:\n",
        "        print(f\"Error: {e}\")\n",
        "        continue"
      ],
      "execution_count": null,
      "outputs": [
        {
          "output_type": "stream",
          "name": "stderr",
          "text": [
            "554it [09:05,  1.03s/it]/usr/local/lib/python3.7/dist-packages/librosa/core/audio.py:165: UserWarning: PySoundFile failed. Trying audioread instead.\n",
            "  warnings.warn(\"PySoundFile failed. Trying audioread instead.\")\n",
            "555it [09:08,  1.47s/it]"
          ]
        },
        {
          "output_type": "stream",
          "name": "stdout",
          "text": [
            "Error: \n"
          ]
        },
        {
          "output_type": "stream",
          "name": "stderr",
          "text": [
            "1000it [15:59,  1.04it/s]\n"
          ]
        }
      ]
    },
    {
      "cell_type": "code",
      "metadata": {
        "execution": {
          "iopub.execute_input": "2021-06-24T12:31:05.116258Z",
          "iopub.status.busy": "2021-06-24T12:31:05.115494Z",
          "iopub.status.idle": "2021-06-24T12:31:05.138145Z",
          "shell.execute_reply": "2021-06-24T12:31:05.136850Z",
          "shell.execute_reply.started": "2021-06-24T12:31:05.116214Z"
        },
        "colab": {
          "base_uri": "https://localhost:8080/",
          "height": 202
        },
        "id": "A8r5vv2mxRDV",
        "outputId": "4e305165-61e2-4170-877e-3690327c27c9"
      },
      "source": [
        "### converting extracted_features to Pandas dataframe\n",
        "extracted_features_df=pd.DataFrame(extracted_features,columns=['feature','class'])\n",
        "extracted_features_df.head()"
      ],
      "execution_count": null,
      "outputs": [
        {
          "output_type": "execute_result",
          "data": {
            "text/html": [
              "<div>\n",
              "<style scoped>\n",
              "    .dataframe tbody tr th:only-of-type {\n",
              "        vertical-align: middle;\n",
              "    }\n",
              "\n",
              "    .dataframe tbody tr th {\n",
              "        vertical-align: top;\n",
              "    }\n",
              "\n",
              "    .dataframe thead th {\n",
              "        text-align: right;\n",
              "    }\n",
              "</style>\n",
              "<table border=\"1\" class=\"dataframe\">\n",
              "  <thead>\n",
              "    <tr style=\"text-align: right;\">\n",
              "      <th></th>\n",
              "      <th>feature</th>\n",
              "      <th>class</th>\n",
              "    </tr>\n",
              "  </thead>\n",
              "  <tbody>\n",
              "    <tr>\n",
              "      <th>0</th>\n",
              "      <td>[-113.57065, 121.57179, -19.168142, 42.36642, ...</td>\n",
              "      <td>blues</td>\n",
              "    </tr>\n",
              "    <tr>\n",
              "      <th>1</th>\n",
              "      <td>[-207.5017, 123.991264, 8.955127, 35.87765, 2....</td>\n",
              "      <td>blues</td>\n",
              "    </tr>\n",
              "    <tr>\n",
              "      <th>2</th>\n",
              "      <td>[-90.722595, 140.4463, -29.09389, 31.684334, -...</td>\n",
              "      <td>blues</td>\n",
              "    </tr>\n",
              "    <tr>\n",
              "      <th>3</th>\n",
              "      <td>[-199.5442, 150.09091, 5.6626782, 26.85908, 1....</td>\n",
              "      <td>blues</td>\n",
              "    </tr>\n",
              "    <tr>\n",
              "      <th>4</th>\n",
              "      <td>[-160.3377, 126.219635, -35.58781, 22.148071, ...</td>\n",
              "      <td>blues</td>\n",
              "    </tr>\n",
              "  </tbody>\n",
              "</table>\n",
              "</div>"
            ],
            "text/plain": [
              "                                             feature  class\n",
              "0  [-113.57065, 121.57179, -19.168142, 42.36642, ...  blues\n",
              "1  [-207.5017, 123.991264, 8.955127, 35.87765, 2....  blues\n",
              "2  [-90.722595, 140.4463, -29.09389, 31.684334, -...  blues\n",
              "3  [-199.5442, 150.09091, 5.6626782, 26.85908, 1....  blues\n",
              "4  [-160.3377, 126.219635, -35.58781, 22.148071, ...  blues"
            ]
          },
          "metadata": {},
          "execution_count": 9
        }
      ]
    },
    {
      "cell_type": "code",
      "metadata": {
        "execution": {
          "iopub.execute_input": "2021-06-24T12:31:11.780278Z",
          "iopub.status.busy": "2021-06-24T12:31:11.779913Z",
          "iopub.status.idle": "2021-06-24T12:31:11.788379Z",
          "shell.execute_reply": "2021-06-24T12:31:11.787239Z",
          "shell.execute_reply.started": "2021-06-24T12:31:11.780247Z"
        },
        "colab": {
          "base_uri": "https://localhost:8080/"
        },
        "id": "URz5BuQcxRDW",
        "outputId": "109ef6aa-04d6-47ce-a285-8927263b3676"
      },
      "source": [
        "extracted_features_df['class'].value_counts()"
      ],
      "execution_count": null,
      "outputs": [
        {
          "output_type": "execute_result",
          "data": {
            "text/plain": [
              "rock         100\n",
              "disco        100\n",
              "hiphop       100\n",
              "classical    100\n",
              "country      100\n",
              "metal        100\n",
              "blues        100\n",
              "pop          100\n",
              "reggae       100\n",
              "jazz          99\n",
              "Name: class, dtype: int64"
            ]
          },
          "metadata": {},
          "execution_count": 10
        }
      ]
    },
    {
      "cell_type": "markdown",
      "metadata": {
        "id": "ydSt_1CFAN7g"
      },
      "source": [
        "**Split the dataset into independent and dependent dataset**"
      ]
    },
    {
      "cell_type": "code",
      "metadata": {
        "execution": {
          "iopub.execute_input": "2021-06-24T12:31:37.155436Z",
          "iopub.status.busy": "2021-06-24T12:31:37.154993Z",
          "iopub.status.idle": "2021-06-24T12:31:37.161979Z",
          "shell.execute_reply": "2021-06-24T12:31:37.161129Z",
          "shell.execute_reply.started": "2021-06-24T12:31:37.155398Z"
        },
        "id": "-3CmI4OxxRDW"
      },
      "source": [
        "X=np.array(extracted_features_df['feature'].tolist())\n",
        "y=np.array(extracted_features_df['class'].tolist())"
      ],
      "execution_count": null,
      "outputs": []
    },
    {
      "cell_type": "code",
      "metadata": {
        "execution": {
          "iopub.execute_input": "2021-06-24T12:31:50.855321Z",
          "iopub.status.busy": "2021-06-24T12:31:50.854733Z",
          "iopub.status.idle": "2021-06-24T12:31:50.861701Z",
          "shell.execute_reply": "2021-06-24T12:31:50.860387Z",
          "shell.execute_reply.started": "2021-06-24T12:31:50.855285Z"
        },
        "colab": {
          "base_uri": "https://localhost:8080/"
        },
        "id": "PFqJWNBmxRDX",
        "outputId": "4774bf69-a49d-4d89-bf3e-36c7c0c44604"
      },
      "source": [
        "X.shape"
      ],
      "execution_count": null,
      "outputs": [
        {
          "output_type": "execute_result",
          "data": {
            "text/plain": [
              "(999, 40)"
            ]
          },
          "metadata": {},
          "execution_count": 12
        }
      ]
    },
    {
      "cell_type": "code",
      "metadata": {
        "execution": {
          "iopub.execute_input": "2021-06-24T12:32:06.400042Z",
          "iopub.status.busy": "2021-06-24T12:32:06.399679Z",
          "iopub.status.idle": "2021-06-24T12:32:06.408551Z",
          "shell.execute_reply": "2021-06-24T12:32:06.407550Z",
          "shell.execute_reply.started": "2021-06-24T12:32:06.400013Z"
        },
        "id": "iyXQuBxaxRDX"
      },
      "source": [
        "from tensorflow.keras.utils import to_categorical\n",
        "from sklearn.preprocessing import LabelEncoder\n",
        "labelencoder=LabelEncoder()\n",
        "y=to_categorical(labelencoder.fit_transform(y))"
      ],
      "execution_count": null,
      "outputs": []
    },
    {
      "cell_type": "code",
      "metadata": {
        "execution": {
          "iopub.execute_input": "2021-06-24T12:32:15.080430Z",
          "iopub.status.busy": "2021-06-24T12:32:15.080021Z",
          "iopub.status.idle": "2021-06-24T12:32:15.087480Z",
          "shell.execute_reply": "2021-06-24T12:32:15.086162Z",
          "shell.execute_reply.started": "2021-06-24T12:32:15.080396Z"
        },
        "colab": {
          "base_uri": "https://localhost:8080/"
        },
        "id": "zskm3UCbxRDX",
        "outputId": "217f478d-5c84-46cd-8170-6a48550ecca0"
      },
      "source": [
        "y.shape"
      ],
      "execution_count": null,
      "outputs": [
        {
          "output_type": "execute_result",
          "data": {
            "text/plain": [
              "(999, 10)"
            ]
          },
          "metadata": {},
          "execution_count": 14
        }
      ]
    },
    {
      "cell_type": "markdown",
      "metadata": {
        "id": "vHNPVn4tAVrN"
      },
      "source": [
        "**Train Test Split**"
      ]
    },
    {
      "cell_type": "code",
      "metadata": {
        "execution": {
          "iopub.execute_input": "2021-06-24T12:48:04.747288Z",
          "iopub.status.busy": "2021-06-24T12:48:04.746866Z",
          "iopub.status.idle": "2021-06-24T12:48:04.755032Z",
          "shell.execute_reply": "2021-06-24T12:48:04.754019Z",
          "shell.execute_reply.started": "2021-06-24T12:48:04.747252Z"
        },
        "id": "xaQrsxaDxRDY"
      },
      "source": [
        "from sklearn.model_selection import train_test_split\n",
        "X_train,X_test,y_train,y_test=train_test_split(X,y,test_size=0.2,random_state=0)"
      ],
      "execution_count": null,
      "outputs": []
    },
    {
      "cell_type": "code",
      "metadata": {
        "execution": {
          "iopub.execute_input": "2021-06-24T12:48:12.432998Z",
          "iopub.status.busy": "2021-06-24T12:48:12.432561Z",
          "iopub.status.idle": "2021-06-24T12:48:12.440370Z",
          "shell.execute_reply": "2021-06-24T12:48:12.439535Z",
          "shell.execute_reply.started": "2021-06-24T12:48:12.432961Z"
        },
        "colab": {
          "base_uri": "https://localhost:8080/"
        },
        "id": "KTR2QCktxRDY",
        "outputId": "effd69c0-8280-4e51-a90a-cc880fa6d62d"
      },
      "source": [
        "X_train"
      ],
      "execution_count": null,
      "outputs": [
        {
          "output_type": "execute_result",
          "data": {
            "text/plain": [
              "array([[ 2.67117920e+01,  7.97894287e+01, -5.20517769e+01, ...,\n",
              "        -1.43984926e+00, -1.27259743e+00, -5.90781355e+00],\n",
              "       [-1.44929214e+02,  1.18459854e+02,  2.05253220e+01, ...,\n",
              "         1.89384019e+00, -1.88978815e+00, -1.85136843e+00],\n",
              "       [-6.60630646e+01,  9.78820724e+01, -1.88321342e+01, ...,\n",
              "        -1.23837304e+00, -6.33012116e-01, -1.33665276e+00],\n",
              "       ...,\n",
              "       [-7.74571762e+01,  1.30936478e+02, -2.33290615e+01, ...,\n",
              "        -4.20865250e+00, -3.52202845e+00,  2.60719037e+00],\n",
              "       [-1.90423065e+02,  1.29542053e+02, -7.84552956e+00, ...,\n",
              "        -2.24016356e+00, -3.98439646e+00, -1.98053861e+00],\n",
              "       [-4.65721245e+01,  8.68102798e+01, -3.47887421e+01, ...,\n",
              "         1.48847297e-01,  9.24574316e-01, -8.69751930e-01]], dtype=float32)"
            ]
          },
          "metadata": {},
          "execution_count": 16
        }
      ]
    },
    {
      "cell_type": "code",
      "metadata": {
        "execution": {
          "iopub.execute_input": "2021-06-24T12:49:00.202747Z",
          "iopub.status.busy": "2021-06-24T12:49:00.202289Z",
          "iopub.status.idle": "2021-06-24T12:49:00.209534Z",
          "shell.execute_reply": "2021-06-24T12:49:00.208313Z",
          "shell.execute_reply.started": "2021-06-24T12:49:00.202710Z"
        },
        "colab": {
          "base_uri": "https://localhost:8080/"
        },
        "id": "281ZfFk4xRDZ",
        "outputId": "3048ba6e-67c1-47b3-b382-deec2f3a12e5"
      },
      "source": [
        "print(X_train.shape)\n",
        "print(X_test.shape)\n",
        "print(y_train.shape)\n",
        "print(y_test.shape)"
      ],
      "execution_count": null,
      "outputs": [
        {
          "output_type": "stream",
          "name": "stdout",
          "text": [
            "(799, 40)\n",
            "(200, 40)\n",
            "(799, 10)\n",
            "(200, 10)\n"
          ]
        }
      ]
    },
    {
      "cell_type": "code",
      "metadata": {
        "execution": {
          "iopub.execute_input": "2021-06-24T12:38:50.435667Z",
          "iopub.status.busy": "2021-06-24T12:38:50.435159Z",
          "iopub.status.idle": "2021-06-24T12:38:56.030604Z",
          "shell.execute_reply": "2021-06-24T12:38:56.029138Z",
          "shell.execute_reply.started": "2021-06-24T12:38:50.435628Z"
        },
        "colab": {
          "base_uri": "https://localhost:8080/"
        },
        "id": "E8-4uAo5xRDZ",
        "outputId": "cfd1c10e-00a9-4c9c-b6d9-c0c6fea9a336"
      },
      "source": [
        "import tensorflow as tf\n",
        "print(tf.__version__)"
      ],
      "execution_count": null,
      "outputs": [
        {
          "output_type": "stream",
          "name": "stdout",
          "text": [
            "2.7.0\n"
          ]
        }
      ]
    },
    {
      "cell_type": "code",
      "metadata": {
        "execution": {
          "iopub.execute_input": "2021-06-24T12:39:01.466860Z",
          "iopub.status.busy": "2021-06-24T12:39:01.466466Z",
          "iopub.status.idle": "2021-06-24T12:39:01.471687Z",
          "shell.execute_reply": "2021-06-24T12:39:01.470823Z",
          "shell.execute_reply.started": "2021-06-24T12:39:01.466828Z"
        },
        "id": "Cq0U-hs9xRDZ"
      },
      "source": [
        "from tensorflow.keras.models import Sequential\n",
        "from tensorflow.keras.layers import Dense,Dropout,Activation,Flatten\n",
        "from tensorflow.keras.optimizers import Adam\n",
        "from sklearn import metrics"
      ],
      "execution_count": null,
      "outputs": []
    },
    {
      "cell_type": "code",
      "metadata": {
        "execution": {
          "iopub.execute_input": "2021-06-24T12:39:09.810915Z",
          "iopub.status.busy": "2021-06-24T12:39:09.810299Z",
          "iopub.status.idle": "2021-06-24T12:39:09.815716Z",
          "shell.execute_reply": "2021-06-24T12:39:09.814269Z",
          "shell.execute_reply.started": "2021-06-24T12:39:09.810861Z"
        },
        "id": "lJ_9wuW5xRDa"
      },
      "source": [
        "### No of classes\n",
        "num_labels=y.shape[1]"
      ],
      "execution_count": null,
      "outputs": []
    },
    {
      "cell_type": "code",
      "metadata": {
        "colab": {
          "base_uri": "https://localhost:8080/"
        },
        "id": "egHQq8FdYmy-",
        "outputId": "d4292d52-f6ef-4fef-b131-c5f79460ed50"
      },
      "source": [
        "y.shape[1]"
      ],
      "execution_count": null,
      "outputs": [
        {
          "output_type": "execute_result",
          "data": {
            "text/plain": [
              "10"
            ]
          },
          "metadata": {},
          "execution_count": 21
        }
      ]
    },
    {
      "cell_type": "code",
      "metadata": {
        "execution": {
          "iopub.execute_input": "2021-06-24T12:47:10.103325Z",
          "iopub.status.busy": "2021-06-24T12:47:10.102561Z",
          "iopub.status.idle": "2021-06-24T12:47:10.248071Z",
          "shell.execute_reply": "2021-06-24T12:47:10.246816Z",
          "shell.execute_reply.started": "2021-06-24T12:47:10.103267Z"
        },
        "id": "AjueidgQxRDa"
      },
      "source": [
        "model=Sequential()\n",
        "model.add(Dense(1024,input_shape=(40,), activation=\"relu\"))\n",
        "model.add(Dropout(0.3))\n",
        "model.add(Dense(512, activation=\"relu\"))\n",
        "model.add(Dropout(0.3))\n",
        "model.add(Dense(256, activation=\"relu\"))\n",
        "model.add(Dropout(0.3))\n",
        "model.add(Dense(128, activation=\"relu\"))\n",
        "model.add(Dropout(0.3))\n",
        "model.add(Dense(64, activation=\"relu\"))\n",
        "model.add(Dropout(0.3))\n",
        "model.add(Dense(32, activation=\"relu\"))\n",
        "model.add(Dropout(0.3))\n",
        "\n",
        "###final layer\n",
        "model.add(Dense(num_labels, activation=\"softmax\"))"
      ],
      "execution_count": null,
      "outputs": []
    },
    {
      "cell_type": "code",
      "metadata": {
        "execution": {
          "iopub.execute_input": "2021-06-24T12:49:48.845534Z",
          "iopub.status.busy": "2021-06-24T12:49:48.845111Z",
          "iopub.status.idle": "2021-06-24T12:49:48.860859Z",
          "shell.execute_reply": "2021-06-24T12:49:48.859803Z",
          "shell.execute_reply.started": "2021-06-24T12:49:48.845495Z"
        },
        "colab": {
          "base_uri": "https://localhost:8080/"
        },
        "id": "N9eQ2vGLxRDa",
        "outputId": "7620c5d2-b6fc-473c-d860-298b2641113a"
      },
      "source": [
        "model.summary()"
      ],
      "execution_count": null,
      "outputs": [
        {
          "output_type": "stream",
          "name": "stdout",
          "text": [
            "Model: \"sequential\"\n",
            "_________________________________________________________________\n",
            " Layer (type)                Output Shape              Param #   \n",
            "=================================================================\n",
            " dense (Dense)               (None, 1024)              41984     \n",
            "                                                                 \n",
            " dropout (Dropout)           (None, 1024)              0         \n",
            "                                                                 \n",
            " dense_1 (Dense)             (None, 512)               524800    \n",
            "                                                                 \n",
            " dropout_1 (Dropout)         (None, 512)               0         \n",
            "                                                                 \n",
            " dense_2 (Dense)             (None, 256)               131328    \n",
            "                                                                 \n",
            " dropout_2 (Dropout)         (None, 256)               0         \n",
            "                                                                 \n",
            " dense_3 (Dense)             (None, 128)               32896     \n",
            "                                                                 \n",
            " dropout_3 (Dropout)         (None, 128)               0         \n",
            "                                                                 \n",
            " dense_4 (Dense)             (None, 64)                8256      \n",
            "                                                                 \n",
            " dropout_4 (Dropout)         (None, 64)                0         \n",
            "                                                                 \n",
            " dense_5 (Dense)             (None, 32)                2080      \n",
            "                                                                 \n",
            " dropout_5 (Dropout)         (None, 32)                0         \n",
            "                                                                 \n",
            " dense_6 (Dense)             (None, 10)                330       \n",
            "                                                                 \n",
            "=================================================================\n",
            "Total params: 741,674\n",
            "Trainable params: 741,674\n",
            "Non-trainable params: 0\n",
            "_________________________________________________________________\n"
          ]
        }
      ]
    },
    {
      "cell_type": "code",
      "metadata": {
        "execution": {
          "iopub.execute_input": "2021-06-24T12:49:58.593476Z",
          "iopub.status.busy": "2021-06-24T12:49:58.593043Z",
          "iopub.status.idle": "2021-06-24T12:49:58.613245Z",
          "shell.execute_reply": "2021-06-24T12:49:58.612126Z",
          "shell.execute_reply.started": "2021-06-24T12:49:58.593439Z"
        },
        "id": "PabF0zEdxRDb"
      },
      "source": [
        "model.compile(loss='categorical_crossentropy',metrics=['accuracy'],optimizer='adam')"
      ],
      "execution_count": null,
      "outputs": []
    },
    {
      "cell_type": "code",
      "metadata": {
        "id": "B0f0IY3d4xG8"
      },
      "source": [
        "import time\n",
        "t = time.localtime()\n",
        "current_time = time.strftime(\"%H:%M:%S\", t)"
      ],
      "execution_count": null,
      "outputs": []
    },
    {
      "cell_type": "code",
      "metadata": {
        "execution": {
          "iopub.execute_input": "2021-06-24T12:53:47.508599Z",
          "iopub.status.busy": "2021-06-24T12:53:47.508200Z",
          "iopub.status.idle": "2021-06-24T12:54:06.613096Z",
          "shell.execute_reply": "2021-06-24T12:54:06.611613Z",
          "shell.execute_reply.started": "2021-06-24T12:53:47.508546Z"
        },
        "colab": {
          "base_uri": "https://localhost:8080/"
        },
        "id": "NxrtNNvBxRDb",
        "outputId": "c95ba651-c6e6-4281-e281-359f8eeb1eca"
      },
      "source": [
        "## Trianing my model\n",
        "from tensorflow.keras.callbacks import ModelCheckpoint\n",
        "from datetime import datetime \n",
        "\n",
        "num_epochs = 100\n",
        "num_batch_size = 32\n",
        "\n",
        "checkpointer = ModelCheckpoint(filepath=f'saved_models/audio_classification_{current_time}.hdf5', \n",
        "                               verbose=1, save_best_only=True)\n",
        "start = datetime.now()\n",
        "\n",
        "history = model.fit(X_train, y_train, batch_size=num_batch_size, epochs=num_epochs, validation_data=(X_test, y_test), callbacks=[checkpointer], verbose=1)\n",
        "\n",
        "\n",
        "duration = datetime.now() - start\n",
        "print(\"Training completed in time: \", duration)"
      ],
      "execution_count": null,
      "outputs": [
        {
          "output_type": "stream",
          "name": "stdout",
          "text": [
            "Epoch 1/100\n",
            "22/25 [=========================>....] - ETA: 0s - loss: 4.7540 - accuracy: 0.1023\n",
            "Epoch 00001: val_loss improved from inf to 2.29090, saving model to saved_models/audio_classification_02:17:40.hdf5\n",
            "25/25 [==============================] - 2s 26ms/step - loss: 4.5624 - accuracy: 0.1014 - val_loss: 2.2909 - val_accuracy: 0.1500\n",
            "Epoch 2/100\n",
            "22/25 [=========================>....] - ETA: 0s - loss: 2.6823 - accuracy: 0.1136\n",
            "Epoch 00002: val_loss improved from 2.29090 to 2.28803, saving model to saved_models/audio_classification_02:17:40.hdf5\n",
            "25/25 [==============================] - 0s 18ms/step - loss: 2.6594 - accuracy: 0.1164 - val_loss: 2.2880 - val_accuracy: 0.2000\n",
            "Epoch 3/100\n",
            "23/25 [==========================>...] - ETA: 0s - loss: 2.4122 - accuracy: 0.1073\n",
            "Epoch 00003: val_loss improved from 2.28803 to 2.26733, saving model to saved_models/audio_classification_02:17:40.hdf5\n",
            "25/25 [==============================] - 0s 17ms/step - loss: 2.3949 - accuracy: 0.1139 - val_loss: 2.2673 - val_accuracy: 0.2350\n",
            "Epoch 4/100\n",
            "24/25 [===========================>..] - ETA: 0s - loss: 2.3302 - accuracy: 0.1406\n",
            "Epoch 00004: val_loss improved from 2.26733 to 2.25142, saving model to saved_models/audio_classification_02:17:40.hdf5\n",
            "25/25 [==============================] - 0s 17ms/step - loss: 2.3337 - accuracy: 0.1389 - val_loss: 2.2514 - val_accuracy: 0.2700\n",
            "Epoch 5/100\n",
            "24/25 [===========================>..] - ETA: 0s - loss: 2.2935 - accuracy: 0.1602\n",
            "Epoch 00005: val_loss improved from 2.25142 to 2.24171, saving model to saved_models/audio_classification_02:17:40.hdf5\n",
            "25/25 [==============================] - 0s 18ms/step - loss: 2.2898 - accuracy: 0.1627 - val_loss: 2.2417 - val_accuracy: 0.2350\n",
            "Epoch 6/100\n",
            "24/25 [===========================>..] - ETA: 0s - loss: 2.2813 - accuracy: 0.1719\n",
            "Epoch 00006: val_loss improved from 2.24171 to 2.18810, saving model to saved_models/audio_classification_02:17:40.hdf5\n",
            "25/25 [==============================] - 0s 17ms/step - loss: 2.2822 - accuracy: 0.1740 - val_loss: 2.1881 - val_accuracy: 0.2650\n",
            "Epoch 7/100\n",
            "25/25 [==============================] - ETA: 0s - loss: 2.2743 - accuracy: 0.1715\n",
            "Epoch 00007: val_loss improved from 2.18810 to 2.18178, saving model to saved_models/audio_classification_02:17:40.hdf5\n",
            "25/25 [==============================] - 0s 18ms/step - loss: 2.2743 - accuracy: 0.1715 - val_loss: 2.1818 - val_accuracy: 0.2300\n",
            "Epoch 8/100\n",
            "25/25 [==============================] - ETA: 0s - loss: 2.1938 - accuracy: 0.1927\n",
            "Epoch 00008: val_loss improved from 2.18178 to 2.13516, saving model to saved_models/audio_classification_02:17:40.hdf5\n",
            "25/25 [==============================] - 1s 24ms/step - loss: 2.1938 - accuracy: 0.1927 - val_loss: 2.1352 - val_accuracy: 0.2650\n",
            "Epoch 9/100\n",
            "25/25 [==============================] - ETA: 0s - loss: 2.1936 - accuracy: 0.1952\n",
            "Epoch 00009: val_loss did not improve from 2.13516\n",
            "25/25 [==============================] - 0s 14ms/step - loss: 2.1936 - accuracy: 0.1952 - val_loss: 2.1495 - val_accuracy: 0.3000\n",
            "Epoch 10/100\n",
            "25/25 [==============================] - ETA: 0s - loss: 2.1895 - accuracy: 0.1940\n",
            "Epoch 00010: val_loss improved from 2.13516 to 2.11839, saving model to saved_models/audio_classification_02:17:40.hdf5\n",
            "25/25 [==============================] - 0s 18ms/step - loss: 2.1895 - accuracy: 0.1940 - val_loss: 2.1184 - val_accuracy: 0.2900\n",
            "Epoch 11/100\n",
            "24/25 [===========================>..] - ETA: 0s - loss: 2.1593 - accuracy: 0.2031\n",
            "Epoch 00011: val_loss improved from 2.11839 to 2.03973, saving model to saved_models/audio_classification_02:17:40.hdf5\n",
            "25/25 [==============================] - 0s 18ms/step - loss: 2.1600 - accuracy: 0.2078 - val_loss: 2.0397 - val_accuracy: 0.1950\n",
            "Epoch 12/100\n",
            "24/25 [===========================>..] - ETA: 0s - loss: 2.1064 - accuracy: 0.2161\n",
            "Epoch 00012: val_loss improved from 2.03973 to 2.03624, saving model to saved_models/audio_classification_02:17:40.hdf5\n",
            "25/25 [==============================] - 0s 17ms/step - loss: 2.1107 - accuracy: 0.2153 - val_loss: 2.0362 - val_accuracy: 0.2650\n",
            "Epoch 13/100\n",
            "24/25 [===========================>..] - ETA: 0s - loss: 2.1025 - accuracy: 0.2396\n",
            "Epoch 00013: val_loss did not improve from 2.03624\n",
            "25/25 [==============================] - 0s 14ms/step - loss: 2.0983 - accuracy: 0.2428 - val_loss: 2.0363 - val_accuracy: 0.2800\n",
            "Epoch 14/100\n",
            "23/25 [==========================>...] - ETA: 0s - loss: 2.0495 - accuracy: 0.2364\n",
            "Epoch 00014: val_loss improved from 2.03624 to 2.01702, saving model to saved_models/audio_classification_02:17:40.hdf5\n",
            "25/25 [==============================] - 0s 17ms/step - loss: 2.0600 - accuracy: 0.2278 - val_loss: 2.0170 - val_accuracy: 0.2850\n",
            "Epoch 15/100\n",
            "23/25 [==========================>...] - ETA: 0s - loss: 2.0313 - accuracy: 0.2541\n",
            "Epoch 00015: val_loss improved from 2.01702 to 1.99758, saving model to saved_models/audio_classification_02:17:40.hdf5\n",
            "25/25 [==============================] - 0s 17ms/step - loss: 2.0417 - accuracy: 0.2578 - val_loss: 1.9976 - val_accuracy: 0.3100\n",
            "Epoch 16/100\n",
            "23/25 [==========================>...] - ETA: 0s - loss: 2.0802 - accuracy: 0.2541\n",
            "Epoch 00016: val_loss improved from 1.99758 to 1.98555, saving model to saved_models/audio_classification_02:17:40.hdf5\n",
            "25/25 [==============================] - 0s 18ms/step - loss: 2.0745 - accuracy: 0.2528 - val_loss: 1.9855 - val_accuracy: 0.2900\n",
            "Epoch 17/100\n",
            "21/25 [========================>.....] - ETA: 0s - loss: 1.9863 - accuracy: 0.2530\n",
            "Epoch 00017: val_loss improved from 1.98555 to 1.98254, saving model to saved_models/audio_classification_02:17:40.hdf5\n",
            "25/25 [==============================] - 0s 18ms/step - loss: 2.0035 - accuracy: 0.2528 - val_loss: 1.9825 - val_accuracy: 0.3050\n",
            "Epoch 18/100\n",
            "23/25 [==========================>...] - ETA: 0s - loss: 1.9788 - accuracy: 0.2880\n",
            "Epoch 00018: val_loss improved from 1.98254 to 1.97988, saving model to saved_models/audio_classification_02:17:40.hdf5\n",
            "25/25 [==============================] - 0s 18ms/step - loss: 1.9764 - accuracy: 0.2891 - val_loss: 1.9799 - val_accuracy: 0.3200\n",
            "Epoch 19/100\n",
            "21/25 [========================>.....] - ETA: 0s - loss: 1.9688 - accuracy: 0.2827\n",
            "Epoch 00019: val_loss improved from 1.97988 to 1.95736, saving model to saved_models/audio_classification_02:17:40.hdf5\n",
            "25/25 [==============================] - 0s 17ms/step - loss: 1.9850 - accuracy: 0.2753 - val_loss: 1.9574 - val_accuracy: 0.3100\n",
            "Epoch 20/100\n",
            "25/25 [==============================] - ETA: 0s - loss: 1.9363 - accuracy: 0.3091\n",
            "Epoch 00020: val_loss improved from 1.95736 to 1.92337, saving model to saved_models/audio_classification_02:17:40.hdf5\n",
            "25/25 [==============================] - 0s 20ms/step - loss: 1.9363 - accuracy: 0.3091 - val_loss: 1.9234 - val_accuracy: 0.3400\n",
            "Epoch 21/100\n",
            "24/25 [===========================>..] - ETA: 0s - loss: 1.9430 - accuracy: 0.2943\n",
            "Epoch 00021: val_loss improved from 1.92337 to 1.91856, saving model to saved_models/audio_classification_02:17:40.hdf5\n",
            "25/25 [==============================] - 0s 18ms/step - loss: 1.9408 - accuracy: 0.2916 - val_loss: 1.9186 - val_accuracy: 0.3100\n",
            "Epoch 22/100\n",
            "25/25 [==============================] - ETA: 0s - loss: 1.8749 - accuracy: 0.3079\n",
            "Epoch 00022: val_loss improved from 1.91856 to 1.88777, saving model to saved_models/audio_classification_02:17:40.hdf5\n",
            "25/25 [==============================] - 0s 18ms/step - loss: 1.8749 - accuracy: 0.3079 - val_loss: 1.8878 - val_accuracy: 0.3600\n",
            "Epoch 23/100\n",
            "24/25 [===========================>..] - ETA: 0s - loss: 1.8800 - accuracy: 0.2891\n",
            "Epoch 00023: val_loss did not improve from 1.88777\n",
            "25/25 [==============================] - 0s 13ms/step - loss: 1.8872 - accuracy: 0.2879 - val_loss: 1.9018 - val_accuracy: 0.3100\n",
            "Epoch 24/100\n",
            "25/25 [==============================] - ETA: 0s - loss: 1.8544 - accuracy: 0.3166\n",
            "Epoch 00024: val_loss improved from 1.88777 to 1.85934, saving model to saved_models/audio_classification_02:17:40.hdf5\n",
            "25/25 [==============================] - 0s 18ms/step - loss: 1.8544 - accuracy: 0.3166 - val_loss: 1.8593 - val_accuracy: 0.3400\n",
            "Epoch 25/100\n",
            "22/25 [=========================>....] - ETA: 0s - loss: 1.8447 - accuracy: 0.3310\n",
            "Epoch 00025: val_loss improved from 1.85934 to 1.80883, saving model to saved_models/audio_classification_02:17:40.hdf5\n",
            "25/25 [==============================] - 0s 18ms/step - loss: 1.8516 - accuracy: 0.3242 - val_loss: 1.8088 - val_accuracy: 0.3200\n",
            "Epoch 26/100\n",
            "21/25 [========================>.....] - ETA: 0s - loss: 1.8438 - accuracy: 0.3348\n",
            "Epoch 00026: val_loss did not improve from 1.80883\n",
            "25/25 [==============================] - 0s 13ms/step - loss: 1.8548 - accuracy: 0.3404 - val_loss: 1.8358 - val_accuracy: 0.3400\n",
            "Epoch 27/100\n",
            "24/25 [===========================>..] - ETA: 0s - loss: 1.7941 - accuracy: 0.3542\n",
            "Epoch 00027: val_loss improved from 1.80883 to 1.79298, saving model to saved_models/audio_classification_02:17:40.hdf5\n",
            "25/25 [==============================] - 0s 18ms/step - loss: 1.7977 - accuracy: 0.3504 - val_loss: 1.7930 - val_accuracy: 0.3400\n",
            "Epoch 28/100\n",
            "25/25 [==============================] - ETA: 0s - loss: 1.7503 - accuracy: 0.3542\n",
            "Epoch 00028: val_loss improved from 1.79298 to 1.69973, saving model to saved_models/audio_classification_02:17:40.hdf5\n",
            "25/25 [==============================] - 0s 16ms/step - loss: 1.7503 - accuracy: 0.3542 - val_loss: 1.6997 - val_accuracy: 0.3400\n",
            "Epoch 29/100\n",
            "24/25 [===========================>..] - ETA: 0s - loss: 1.7409 - accuracy: 0.3555\n",
            "Epoch 00029: val_loss did not improve from 1.69973\n",
            "25/25 [==============================] - 0s 14ms/step - loss: 1.7339 - accuracy: 0.3617 - val_loss: 1.7183 - val_accuracy: 0.3750\n",
            "Epoch 30/100\n",
            "24/25 [===========================>..] - ETA: 0s - loss: 1.7490 - accuracy: 0.3633\n",
            "Epoch 00030: val_loss did not improve from 1.69973\n",
            "25/25 [==============================] - 0s 14ms/step - loss: 1.7507 - accuracy: 0.3605 - val_loss: 1.7167 - val_accuracy: 0.3950\n",
            "Epoch 31/100\n",
            "25/25 [==============================] - ETA: 0s - loss: 1.7172 - accuracy: 0.3667\n",
            "Epoch 00031: val_loss improved from 1.69973 to 1.66881, saving model to saved_models/audio_classification_02:17:40.hdf5\n",
            "25/25 [==============================] - 0s 17ms/step - loss: 1.7172 - accuracy: 0.3667 - val_loss: 1.6688 - val_accuracy: 0.3350\n",
            "Epoch 32/100\n",
            "23/25 [==========================>...] - ETA: 0s - loss: 1.6768 - accuracy: 0.3818\n",
            "Epoch 00032: val_loss did not improve from 1.66881\n",
            "25/25 [==============================] - 0s 14ms/step - loss: 1.6748 - accuracy: 0.3830 - val_loss: 1.6963 - val_accuracy: 0.4000\n",
            "Epoch 33/100\n",
            "25/25 [==============================] - ETA: 0s - loss: 1.6387 - accuracy: 0.3817\n",
            "Epoch 00033: val_loss improved from 1.66881 to 1.64200, saving model to saved_models/audio_classification_02:17:40.hdf5\n",
            "25/25 [==============================] - 1s 23ms/step - loss: 1.6387 - accuracy: 0.3817 - val_loss: 1.6420 - val_accuracy: 0.4200\n",
            "Epoch 34/100\n",
            "23/25 [==========================>...] - ETA: 0s - loss: 1.6441 - accuracy: 0.3954\n",
            "Epoch 00034: val_loss improved from 1.64200 to 1.62093, saving model to saved_models/audio_classification_02:17:40.hdf5\n",
            "25/25 [==============================] - 0s 19ms/step - loss: 1.6448 - accuracy: 0.3980 - val_loss: 1.6209 - val_accuracy: 0.3850\n",
            "Epoch 35/100\n",
            "24/25 [===========================>..] - ETA: 0s - loss: 1.5537 - accuracy: 0.4284\n",
            "Epoch 00035: val_loss did not improve from 1.62093\n",
            "25/25 [==============================] - 0s 14ms/step - loss: 1.5480 - accuracy: 0.4293 - val_loss: 1.6778 - val_accuracy: 0.3750\n",
            "Epoch 36/100\n",
            "23/25 [==========================>...] - ETA: 0s - loss: 1.5882 - accuracy: 0.3913\n",
            "Epoch 00036: val_loss improved from 1.62093 to 1.61899, saving model to saved_models/audio_classification_02:17:40.hdf5\n",
            "25/25 [==============================] - 0s 18ms/step - loss: 1.5899 - accuracy: 0.3930 - val_loss: 1.6190 - val_accuracy: 0.4300\n",
            "Epoch 37/100\n",
            "24/25 [===========================>..] - ETA: 0s - loss: 1.5554 - accuracy: 0.4297\n",
            "Epoch 00037: val_loss improved from 1.61899 to 1.58200, saving model to saved_models/audio_classification_02:17:40.hdf5\n",
            "25/25 [==============================] - 0s 18ms/step - loss: 1.5586 - accuracy: 0.4268 - val_loss: 1.5820 - val_accuracy: 0.4200\n",
            "Epoch 38/100\n",
            "25/25 [==============================] - ETA: 0s - loss: 1.5478 - accuracy: 0.4443\n",
            "Epoch 00038: val_loss improved from 1.58200 to 1.56119, saving model to saved_models/audio_classification_02:17:40.hdf5\n",
            "25/25 [==============================] - 0s 17ms/step - loss: 1.5478 - accuracy: 0.4443 - val_loss: 1.5612 - val_accuracy: 0.4150\n",
            "Epoch 39/100\n",
            "25/25 [==============================] - ETA: 0s - loss: 1.5531 - accuracy: 0.4193\n",
            "Epoch 00039: val_loss did not improve from 1.56119\n",
            "25/25 [==============================] - 0s 15ms/step - loss: 1.5531 - accuracy: 0.4193 - val_loss: 1.5865 - val_accuracy: 0.4500\n",
            "Epoch 40/100\n",
            "24/25 [===========================>..] - ETA: 0s - loss: 1.5040 - accuracy: 0.4362\n",
            "Epoch 00040: val_loss improved from 1.56119 to 1.55142, saving model to saved_models/audio_classification_02:17:40.hdf5\n",
            "25/25 [==============================] - 0s 18ms/step - loss: 1.4992 - accuracy: 0.4380 - val_loss: 1.5514 - val_accuracy: 0.4700\n",
            "Epoch 41/100\n",
            "22/25 [=========================>....] - ETA: 0s - loss: 1.5168 - accuracy: 0.4361\n",
            "Epoch 00041: val_loss did not improve from 1.55142\n",
            "25/25 [==============================] - 0s 14ms/step - loss: 1.5213 - accuracy: 0.4380 - val_loss: 1.6105 - val_accuracy: 0.4000\n",
            "Epoch 42/100\n",
            "22/25 [=========================>....] - ETA: 0s - loss: 1.4764 - accuracy: 0.4403\n",
            "Epoch 00042: val_loss did not improve from 1.55142\n",
            "25/25 [==============================] - 0s 15ms/step - loss: 1.4999 - accuracy: 0.4368 - val_loss: 1.5576 - val_accuracy: 0.4150\n",
            "Epoch 43/100\n",
            "25/25 [==============================] - ETA: 0s - loss: 1.4942 - accuracy: 0.4355\n",
            "Epoch 00043: val_loss improved from 1.55142 to 1.54402, saving model to saved_models/audio_classification_02:17:40.hdf5\n",
            "25/25 [==============================] - 0s 17ms/step - loss: 1.4942 - accuracy: 0.4355 - val_loss: 1.5440 - val_accuracy: 0.4550\n",
            "Epoch 44/100\n",
            "24/25 [===========================>..] - ETA: 0s - loss: 1.4299 - accuracy: 0.4479\n",
            "Epoch 00044: val_loss improved from 1.54402 to 1.52955, saving model to saved_models/audio_classification_02:17:40.hdf5\n",
            "25/25 [==============================] - 0s 18ms/step - loss: 1.4231 - accuracy: 0.4481 - val_loss: 1.5295 - val_accuracy: 0.4950\n",
            "Epoch 45/100\n",
            "25/25 [==============================] - ETA: 0s - loss: 1.4664 - accuracy: 0.4568\n",
            "Epoch 00045: val_loss did not improve from 1.52955\n",
            "25/25 [==============================] - 0s 14ms/step - loss: 1.4664 - accuracy: 0.4568 - val_loss: 1.5890 - val_accuracy: 0.5000\n",
            "Epoch 46/100\n",
            "22/25 [=========================>....] - ETA: 0s - loss: 1.4759 - accuracy: 0.4616\n",
            "Epoch 00046: val_loss did not improve from 1.52955\n",
            "25/25 [==============================] - 0s 16ms/step - loss: 1.4509 - accuracy: 0.4756 - val_loss: 1.5654 - val_accuracy: 0.4750\n",
            "Epoch 47/100\n",
            "21/25 [========================>.....] - ETA: 0s - loss: 1.3818 - accuracy: 0.4807\n",
            "Epoch 00047: val_loss did not improve from 1.52955\n",
            "25/25 [==============================] - 0s 15ms/step - loss: 1.4120 - accuracy: 0.4681 - val_loss: 1.6094 - val_accuracy: 0.4200\n",
            "Epoch 48/100\n",
            "22/25 [=========================>....] - ETA: 0s - loss: 1.3850 - accuracy: 0.4886\n",
            "Epoch 00048: val_loss improved from 1.52955 to 1.52851, saving model to saved_models/audio_classification_02:17:40.hdf5\n",
            "25/25 [==============================] - 0s 19ms/step - loss: 1.3956 - accuracy: 0.4881 - val_loss: 1.5285 - val_accuracy: 0.4700\n",
            "Epoch 49/100\n",
            "22/25 [=========================>....] - ETA: 0s - loss: 1.3359 - accuracy: 0.4886\n",
            "Epoch 00049: val_loss did not improve from 1.52851\n",
            "25/25 [==============================] - 0s 15ms/step - loss: 1.3365 - accuracy: 0.4881 - val_loss: 1.5576 - val_accuracy: 0.4500\n",
            "Epoch 50/100\n",
            "21/25 [========================>.....] - ETA: 0s - loss: 1.4304 - accuracy: 0.4598\n",
            "Epoch 00050: val_loss did not improve from 1.52851\n",
            "25/25 [==============================] - 0s 13ms/step - loss: 1.4069 - accuracy: 0.4731 - val_loss: 1.6976 - val_accuracy: 0.5050\n",
            "Epoch 51/100\n",
            "22/25 [=========================>....] - ETA: 0s - loss: 1.3728 - accuracy: 0.4901\n",
            "Epoch 00051: val_loss improved from 1.52851 to 1.47641, saving model to saved_models/audio_classification_02:17:40.hdf5\n",
            "25/25 [==============================] - 0s 18ms/step - loss: 1.3628 - accuracy: 0.4931 - val_loss: 1.4764 - val_accuracy: 0.5000\n",
            "Epoch 52/100\n",
            "23/25 [==========================>...] - ETA: 0s - loss: 1.3640 - accuracy: 0.4837\n",
            "Epoch 00052: val_loss did not improve from 1.47641\n",
            "25/25 [==============================] - 0s 14ms/step - loss: 1.3679 - accuracy: 0.4793 - val_loss: 1.4979 - val_accuracy: 0.4650\n",
            "Epoch 53/100\n",
            "23/25 [==========================>...] - ETA: 0s - loss: 1.3340 - accuracy: 0.5054\n",
            "Epoch 00053: val_loss improved from 1.47641 to 1.46036, saving model to saved_models/audio_classification_02:17:40.hdf5\n",
            "25/25 [==============================] - 0s 18ms/step - loss: 1.3260 - accuracy: 0.5106 - val_loss: 1.4604 - val_accuracy: 0.5300\n",
            "Epoch 54/100\n",
            "24/25 [===========================>..] - ETA: 0s - loss: 1.2922 - accuracy: 0.5312\n",
            "Epoch 00054: val_loss did not improve from 1.46036\n",
            "25/25 [==============================] - 0s 14ms/step - loss: 1.2899 - accuracy: 0.5269 - val_loss: 1.5535 - val_accuracy: 0.5150\n",
            "Epoch 55/100\n",
            "25/25 [==============================] - ETA: 0s - loss: 1.2747 - accuracy: 0.5282\n",
            "Epoch 00055: val_loss did not improve from 1.46036\n",
            "25/25 [==============================] - 0s 16ms/step - loss: 1.2747 - accuracy: 0.5282 - val_loss: 1.4686 - val_accuracy: 0.5150\n",
            "Epoch 56/100\n",
            "24/25 [===========================>..] - ETA: 0s - loss: 1.2806 - accuracy: 0.5143\n",
            "Epoch 00056: val_loss improved from 1.46036 to 1.38579, saving model to saved_models/audio_classification_02:17:40.hdf5\n",
            "25/25 [==============================] - 0s 17ms/step - loss: 1.2767 - accuracy: 0.5156 - val_loss: 1.3858 - val_accuracy: 0.5200\n",
            "Epoch 57/100\n",
            "22/25 [=========================>....] - ETA: 0s - loss: 1.2447 - accuracy: 0.5526\n",
            "Epoch 00057: val_loss did not improve from 1.38579\n",
            "25/25 [==============================] - 0s 14ms/step - loss: 1.2608 - accuracy: 0.5494 - val_loss: 1.4783 - val_accuracy: 0.4850\n",
            "Epoch 58/100\n",
            "25/25 [==============================] - ETA: 0s - loss: 1.2424 - accuracy: 0.5319\n",
            "Epoch 00058: val_loss did not improve from 1.38579\n",
            "25/25 [==============================] - 0s 13ms/step - loss: 1.2424 - accuracy: 0.5319 - val_loss: 1.4531 - val_accuracy: 0.5300\n",
            "Epoch 59/100\n",
            "23/25 [==========================>...] - ETA: 0s - loss: 1.2626 - accuracy: 0.5312\n",
            "Epoch 00059: val_loss did not improve from 1.38579\n",
            "25/25 [==============================] - 0s 14ms/step - loss: 1.2468 - accuracy: 0.5369 - val_loss: 1.5364 - val_accuracy: 0.5600\n",
            "Epoch 60/100\n",
            "22/25 [=========================>....] - ETA: 0s - loss: 1.2238 - accuracy: 0.5696\n",
            "Epoch 00060: val_loss did not improve from 1.38579\n",
            "25/25 [==============================] - 0s 15ms/step - loss: 1.2091 - accuracy: 0.5732 - val_loss: 1.4730 - val_accuracy: 0.5050\n",
            "Epoch 61/100\n",
            "23/25 [==========================>...] - ETA: 0s - loss: 1.2337 - accuracy: 0.5340\n",
            "Epoch 00061: val_loss did not improve from 1.38579\n",
            "25/25 [==============================] - 0s 14ms/step - loss: 1.2376 - accuracy: 0.5294 - val_loss: 1.4616 - val_accuracy: 0.4950\n",
            "Epoch 62/100\n",
            "24/25 [===========================>..] - ETA: 0s - loss: 1.1560 - accuracy: 0.5872\n",
            "Epoch 00062: val_loss did not improve from 1.38579\n",
            "25/25 [==============================] - 0s 14ms/step - loss: 1.1610 - accuracy: 0.5807 - val_loss: 1.6364 - val_accuracy: 0.5300\n",
            "Epoch 63/100\n",
            "23/25 [==========================>...] - ETA: 0s - loss: 1.1871 - accuracy: 0.5856\n",
            "Epoch 00063: val_loss did not improve from 1.38579\n",
            "25/25 [==============================] - 0s 14ms/step - loss: 1.1981 - accuracy: 0.5770 - val_loss: 1.3976 - val_accuracy: 0.5400\n",
            "Epoch 64/100\n",
            "23/25 [==========================>...] - ETA: 0s - loss: 1.1210 - accuracy: 0.6073\n",
            "Epoch 00064: val_loss improved from 1.38579 to 1.32013, saving model to saved_models/audio_classification_02:17:40.hdf5\n",
            "25/25 [==============================] - 0s 18ms/step - loss: 1.1081 - accuracy: 0.6108 - val_loss: 1.3201 - val_accuracy: 0.5550\n",
            "Epoch 65/100\n",
            "23/25 [==========================>...] - ETA: 0s - loss: 1.0937 - accuracy: 0.6073\n",
            "Epoch 00065: val_loss did not improve from 1.32013\n",
            "25/25 [==============================] - 0s 15ms/step - loss: 1.1145 - accuracy: 0.5957 - val_loss: 1.4778 - val_accuracy: 0.5250\n",
            "Epoch 66/100\n",
            "23/25 [==========================>...] - ETA: 0s - loss: 1.1092 - accuracy: 0.6046\n",
            "Epoch 00066: val_loss did not improve from 1.32013\n",
            "25/25 [==============================] - 0s 14ms/step - loss: 1.1225 - accuracy: 0.5995 - val_loss: 1.4271 - val_accuracy: 0.5850\n",
            "Epoch 67/100\n",
            "24/25 [===========================>..] - ETA: 0s - loss: 1.1189 - accuracy: 0.6094\n",
            "Epoch 00067: val_loss did not improve from 1.32013\n",
            "25/25 [==============================] - 0s 14ms/step - loss: 1.1199 - accuracy: 0.6083 - val_loss: 1.4214 - val_accuracy: 0.5550\n",
            "Epoch 68/100\n",
            "22/25 [=========================>....] - ETA: 0s - loss: 1.0715 - accuracy: 0.6307\n",
            "Epoch 00068: val_loss did not improve from 1.32013\n",
            "25/25 [==============================] - 0s 14ms/step - loss: 1.0556 - accuracy: 0.6358 - val_loss: 1.4525 - val_accuracy: 0.5450\n",
            "Epoch 69/100\n",
            "25/25 [==============================] - ETA: 0s - loss: 1.0176 - accuracy: 0.6471\n",
            "Epoch 00069: val_loss did not improve from 1.32013\n",
            "25/25 [==============================] - 0s 14ms/step - loss: 1.0176 - accuracy: 0.6471 - val_loss: 1.3556 - val_accuracy: 0.5550\n",
            "Epoch 70/100\n",
            "23/25 [==========================>...] - ETA: 0s - loss: 1.0100 - accuracy: 0.6114\n",
            "Epoch 00070: val_loss did not improve from 1.32013\n",
            "25/25 [==============================] - 0s 14ms/step - loss: 1.0109 - accuracy: 0.6158 - val_loss: 1.5870 - val_accuracy: 0.5500\n",
            "Epoch 71/100\n",
            "25/25 [==============================] - ETA: 0s - loss: 1.0263 - accuracy: 0.6408\n",
            "Epoch 00071: val_loss did not improve from 1.32013\n",
            "25/25 [==============================] - 0s 15ms/step - loss: 1.0263 - accuracy: 0.6408 - val_loss: 1.5726 - val_accuracy: 0.5300\n",
            "Epoch 72/100\n",
            "23/25 [==========================>...] - ETA: 0s - loss: 1.0449 - accuracy: 0.6155\n",
            "Epoch 00072: val_loss did not improve from 1.32013\n",
            "25/25 [==============================] - 0s 15ms/step - loss: 1.0606 - accuracy: 0.6083 - val_loss: 1.6536 - val_accuracy: 0.5550\n",
            "Epoch 73/100\n",
            "23/25 [==========================>...] - ETA: 0s - loss: 1.0501 - accuracy: 0.6318\n",
            "Epoch 00073: val_loss did not improve from 1.32013\n",
            "25/25 [==============================] - 0s 14ms/step - loss: 1.0394 - accuracy: 0.6295 - val_loss: 1.4992 - val_accuracy: 0.5750\n",
            "Epoch 74/100\n",
            "25/25 [==============================] - ETA: 0s - loss: 0.9799 - accuracy: 0.6658\n",
            "Epoch 00074: val_loss did not improve from 1.32013\n",
            "25/25 [==============================] - 0s 14ms/step - loss: 0.9799 - accuracy: 0.6658 - val_loss: 1.3766 - val_accuracy: 0.5850\n",
            "Epoch 75/100\n",
            "21/25 [========================>.....] - ETA: 0s - loss: 1.0445 - accuracy: 0.6220\n",
            "Epoch 00075: val_loss did not improve from 1.32013\n",
            "25/25 [==============================] - 0s 13ms/step - loss: 1.0343 - accuracy: 0.6245 - val_loss: 1.3965 - val_accuracy: 0.5850\n",
            "Epoch 76/100\n",
            "22/25 [=========================>....] - ETA: 0s - loss: 0.9361 - accuracy: 0.6676\n",
            "Epoch 00076: val_loss did not improve from 1.32013\n",
            "25/25 [==============================] - 0s 15ms/step - loss: 0.9290 - accuracy: 0.6696 - val_loss: 1.5294 - val_accuracy: 0.5700\n",
            "Epoch 77/100\n",
            "22/25 [=========================>....] - ETA: 0s - loss: 0.9363 - accuracy: 0.6790\n",
            "Epoch 00077: val_loss did not improve from 1.32013\n",
            "25/25 [==============================] - 0s 16ms/step - loss: 0.9309 - accuracy: 0.6758 - val_loss: 1.3756 - val_accuracy: 0.5900\n",
            "Epoch 78/100\n",
            "22/25 [=========================>....] - ETA: 0s - loss: 1.0313 - accuracy: 0.6491\n",
            "Epoch 00078: val_loss did not improve from 1.32013\n",
            "25/25 [==============================] - 0s 14ms/step - loss: 1.0292 - accuracy: 0.6546 - val_loss: 1.6978 - val_accuracy: 0.5150\n",
            "Epoch 79/100\n",
            "23/25 [==========================>...] - ETA: 0s - loss: 0.9459 - accuracy: 0.6617\n",
            "Epoch 00079: val_loss did not improve from 1.32013\n",
            "25/25 [==============================] - 0s 14ms/step - loss: 0.9415 - accuracy: 0.6608 - val_loss: 1.5499 - val_accuracy: 0.6200\n",
            "Epoch 80/100\n",
            "22/25 [=========================>....] - ETA: 0s - loss: 0.9204 - accuracy: 0.6903\n",
            "Epoch 00080: val_loss did not improve from 1.32013\n",
            "25/25 [==============================] - 0s 14ms/step - loss: 0.9154 - accuracy: 0.6896 - val_loss: 1.7260 - val_accuracy: 0.5600\n",
            "Epoch 81/100\n",
            "22/25 [=========================>....] - ETA: 0s - loss: 0.9294 - accuracy: 0.6790\n",
            "Epoch 00081: val_loss did not improve from 1.32013\n",
            "25/25 [==============================] - 0s 14ms/step - loss: 0.9303 - accuracy: 0.6733 - val_loss: 1.3944 - val_accuracy: 0.5900\n",
            "Epoch 82/100\n",
            "25/25 [==============================] - ETA: 0s - loss: 0.9239 - accuracy: 0.6809\n",
            "Epoch 00082: val_loss did not improve from 1.32013\n",
            "25/25 [==============================] - 0s 14ms/step - loss: 0.9239 - accuracy: 0.6809 - val_loss: 1.3802 - val_accuracy: 0.5500\n",
            "Epoch 83/100\n",
            "23/25 [==========================>...] - ETA: 0s - loss: 0.8546 - accuracy: 0.7011\n",
            "Epoch 00083: val_loss did not improve from 1.32013\n",
            "25/25 [==============================] - 0s 14ms/step - loss: 0.8664 - accuracy: 0.6996 - val_loss: 1.4102 - val_accuracy: 0.6150\n",
            "Epoch 84/100\n",
            "23/25 [==========================>...] - ETA: 0s - loss: 0.7977 - accuracy: 0.7228\n",
            "Epoch 00084: val_loss did not improve from 1.32013\n",
            "25/25 [==============================] - 0s 14ms/step - loss: 0.8252 - accuracy: 0.7121 - val_loss: 1.6086 - val_accuracy: 0.5800\n",
            "Epoch 85/100\n",
            "23/25 [==========================>...] - ETA: 0s - loss: 0.8646 - accuracy: 0.6997\n",
            "Epoch 00085: val_loss did not improve from 1.32013\n",
            "25/25 [==============================] - 0s 15ms/step - loss: 0.8568 - accuracy: 0.6996 - val_loss: 1.5832 - val_accuracy: 0.5350\n",
            "Epoch 86/100\n",
            "24/25 [===========================>..] - ETA: 0s - loss: 0.8691 - accuracy: 0.7135\n",
            "Epoch 00086: val_loss did not improve from 1.32013\n",
            "25/25 [==============================] - 0s 14ms/step - loss: 0.8627 - accuracy: 0.7159 - val_loss: 1.6787 - val_accuracy: 0.5750\n",
            "Epoch 87/100\n",
            "25/25 [==============================] - ETA: 0s - loss: 0.7871 - accuracy: 0.7196\n",
            "Epoch 00087: val_loss did not improve from 1.32013\n",
            "25/25 [==============================] - 0s 14ms/step - loss: 0.7871 - accuracy: 0.7196 - val_loss: 1.6148 - val_accuracy: 0.5600\n",
            "Epoch 88/100\n",
            "22/25 [=========================>....] - ETA: 0s - loss: 0.8490 - accuracy: 0.7159\n",
            "Epoch 00088: val_loss did not improve from 1.32013\n",
            "25/25 [==============================] - 0s 15ms/step - loss: 0.8433 - accuracy: 0.7159 - val_loss: 1.7378 - val_accuracy: 0.5750\n",
            "Epoch 89/100\n",
            "22/25 [=========================>....] - ETA: 0s - loss: 0.7258 - accuracy: 0.7557\n",
            "Epoch 00089: val_loss did not improve from 1.32013\n",
            "25/25 [==============================] - 0s 15ms/step - loss: 0.7426 - accuracy: 0.7447 - val_loss: 1.4796 - val_accuracy: 0.6150\n",
            "Epoch 90/100\n",
            "23/25 [==========================>...] - ETA: 0s - loss: 0.7375 - accuracy: 0.7514\n",
            "Epoch 00090: val_loss did not improve from 1.32013\n",
            "25/25 [==============================] - 0s 17ms/step - loss: 0.7349 - accuracy: 0.7497 - val_loss: 1.7052 - val_accuracy: 0.6100\n",
            "Epoch 91/100\n",
            "22/25 [=========================>....] - ETA: 0s - loss: 0.7414 - accuracy: 0.7543\n",
            "Epoch 00091: val_loss did not improve from 1.32013\n",
            "25/25 [==============================] - 0s 14ms/step - loss: 0.7566 - accuracy: 0.7472 - val_loss: 1.5801 - val_accuracy: 0.6200\n",
            "Epoch 92/100\n",
            "24/25 [===========================>..] - ETA: 0s - loss: 0.7317 - accuracy: 0.7643\n",
            "Epoch 00092: val_loss did not improve from 1.32013\n",
            "25/25 [==============================] - 0s 14ms/step - loss: 0.7256 - accuracy: 0.7660 - val_loss: 1.9957 - val_accuracy: 0.5850\n",
            "Epoch 93/100\n",
            "25/25 [==============================] - ETA: 0s - loss: 0.7306 - accuracy: 0.7534\n",
            "Epoch 00093: val_loss did not improve from 1.32013\n",
            "25/25 [==============================] - 0s 15ms/step - loss: 0.7306 - accuracy: 0.7534 - val_loss: 1.5925 - val_accuracy: 0.6400\n",
            "Epoch 94/100\n",
            "21/25 [========================>.....] - ETA: 0s - loss: 0.7229 - accuracy: 0.7946\n",
            "Epoch 00094: val_loss did not improve from 1.32013\n",
            "25/25 [==============================] - 0s 15ms/step - loss: 0.7093 - accuracy: 0.7997 - val_loss: 1.4759 - val_accuracy: 0.6300\n",
            "Epoch 95/100\n",
            "21/25 [========================>.....] - ETA: 0s - loss: 0.7126 - accuracy: 0.7738\n",
            "Epoch 00095: val_loss did not improve from 1.32013\n",
            "25/25 [==============================] - 0s 15ms/step - loss: 0.7101 - accuracy: 0.7685 - val_loss: 1.3854 - val_accuracy: 0.6350\n",
            "Epoch 96/100\n",
            "22/25 [=========================>....] - ETA: 0s - loss: 0.6794 - accuracy: 0.7770\n",
            "Epoch 00096: val_loss did not improve from 1.32013\n",
            "25/25 [==============================] - 0s 15ms/step - loss: 0.6779 - accuracy: 0.7760 - val_loss: 1.5823 - val_accuracy: 0.6050\n",
            "Epoch 97/100\n",
            "22/25 [=========================>....] - ETA: 0s - loss: 0.6399 - accuracy: 0.8011\n",
            "Epoch 00097: val_loss did not improve from 1.32013\n",
            "25/25 [==============================] - 0s 15ms/step - loss: 0.6439 - accuracy: 0.7997 - val_loss: 1.5172 - val_accuracy: 0.6250\n",
            "Epoch 98/100\n",
            "21/25 [========================>.....] - ETA: 0s - loss: 0.5840 - accuracy: 0.8140\n",
            "Epoch 00098: val_loss did not improve from 1.32013\n",
            "25/25 [==============================] - 0s 15ms/step - loss: 0.6004 - accuracy: 0.8123 - val_loss: 1.5048 - val_accuracy: 0.6300\n",
            "Epoch 99/100\n",
            "23/25 [==========================>...] - ETA: 0s - loss: 0.6046 - accuracy: 0.8111\n",
            "Epoch 00099: val_loss did not improve from 1.32013\n",
            "25/25 [==============================] - 0s 15ms/step - loss: 0.5954 - accuracy: 0.8135 - val_loss: 1.6532 - val_accuracy: 0.6200\n",
            "Epoch 100/100\n",
            "22/25 [=========================>....] - ETA: 0s - loss: 0.5914 - accuracy: 0.8097\n",
            "Epoch 00100: val_loss did not improve from 1.32013\n",
            "25/25 [==============================] - 0s 15ms/step - loss: 0.6067 - accuracy: 0.8060 - val_loss: 1.5365 - val_accuracy: 0.6500\n",
            "Training completed in time:  0:00:41.966651\n"
          ]
        }
      ]
    },
    {
      "cell_type": "code",
      "metadata": {
        "execution": {
          "iopub.execute_input": "2021-06-24T12:54:21.467209Z",
          "iopub.status.busy": "2021-06-24T12:54:21.466820Z",
          "iopub.status.idle": "2021-06-24T12:54:21.528645Z",
          "shell.execute_reply": "2021-06-24T12:54:21.527621Z",
          "shell.execute_reply.started": "2021-06-24T12:54:21.467173Z"
        },
        "colab": {
          "base_uri": "https://localhost:8080/"
        },
        "id": "IJusRAFaxRDc",
        "outputId": "8eb56cda-188e-4d13-f1a7-9251d37fb3f7"
      },
      "source": [
        "model.evaluate(X_test,y_test,verbose=0)"
      ],
      "execution_count": null,
      "outputs": [
        {
          "output_type": "execute_result",
          "data": {
            "text/plain": [
              "[1.5365269184112549, 0.6499999761581421]"
            ]
          },
          "metadata": {},
          "execution_count": 27
        }
      ]
    },
    {
      "cell_type": "code",
      "metadata": {
        "colab": {
          "base_uri": "https://localhost:8080/",
          "height": 374
        },
        "id": "gM6mdwNU53Ha",
        "outputId": "4bf91341-cc43-46f2-e742-827a3238a6e4"
      },
      "source": [
        "pd.DataFrame(history.history).plot(figsize=(12,6))\n",
        "plt.show()"
      ],
      "execution_count": null,
      "outputs": [
        {
          "output_type": "display_data",
          "data": {
            "image/png": "[encoded data removed]",
            "text/plain": [
              "<Figure size 864x432 with 1 Axes>"
            ]
          },
          "metadata": {
            "needs_background": "light"
          }
        }
      ]
    },
    {
      "cell_type": "code",
      "metadata": {
        "colab": {
          "base_uri": "https://localhost:8080/"
        },
        "id": "rgGW4zsIxRDc",
        "outputId": "2d71c25e-f51b-4167-8f48-4fc19d2ef783"
      },
      "source": [
        "#model.predict_class(X_test)\n",
        "predict_x=model.predict(X_test) \n",
        "classes_x=np.argmax(predict_x,axis=1)\n",
        "classes_x"
      ],
      "execution_count": null,
      "outputs": [
        {
          "output_type": "execute_result",
          "data": {
            "text/plain": [
              "array([7, 9, 0, 6, 9, 5, 3, 4, 0, 9, 6, 2, 4, 8, 9, 9, 3, 3, 3, 2, 9, 4,\n",
              "       5, 2, 1, 2, 0, 9, 4, 3, 6, 3, 7, 4, 7, 7, 0, 4, 5, 3, 9, 8, 6, 0,\n",
              "       2, 8, 7, 9, 3, 8, 3, 9, 3, 1, 8, 4, 4, 2, 8, 5, 8, 6, 1, 9, 7, 8,\n",
              "       5, 8, 9, 6, 1, 4, 1, 3, 9, 4, 6, 4, 6, 2, 6, 2, 6, 5, 3, 3, 5, 9,\n",
              "       2, 7, 3, 8, 8, 5, 2, 6, 3, 4, 5, 0, 1, 5, 6, 6, 7, 5, 1, 2, 5, 8,\n",
              "       8, 1, 8, 8, 2, 0, 7, 3, 9, 5, 0, 4, 8, 6, 2, 2, 2, 4, 6, 3, 7, 4,\n",
              "       7, 3, 9, 0, 4, 1, 7, 2, 7, 5, 6, 9, 4, 0, 0, 1, 0, 5, 3, 9, 7, 8,\n",
              "       5, 4, 4, 3, 6, 4, 1, 5, 1, 5, 7, 3, 3, 7, 1, 5, 2, 8, 3, 3, 6, 1,\n",
              "       7, 4, 5, 4, 2, 3, 3, 9, 3, 2, 6, 4, 8, 0, 4, 6, 7, 8, 6, 1, 2, 5,\n",
              "       3, 4])"
            ]
          },
          "metadata": {},
          "execution_count": 50
        }
      ]
    },
    {
      "cell_type": "code",
      "metadata": {
        "id": "lFbe3uyU1ZmA",
        "colab": {
          "base_uri": "https://localhost:8080/"
        },
        "outputId": "4b5ab648-343c-4886-8351-f23753ea81b8"
      },
      "source": [
        "filename=\"/content/drive/MyDrive/Colab_Notebook/Music_Genre_Classification/audio/hiphop.00006.wav\"\n",
        "audio, sample_rate = librosa.load(filename, res_type='kaiser_fast') \n",
        "mfccs_features = librosa.feature.mfcc(y=audio, sr=sample_rate, n_mfcc=40)\n",
        "mfccs_scaled_features = np.mean(mfccs_features.T,axis=0)\n",
        "\n",
        "print(mfccs_scaled_features)\n",
        "print(mfccs_scaled_features)\n",
        "mfccs_scaled_features=mfccs_scaled_features.reshape(1,-1)\n",
        "print(mfccs_scaled_features.shape)\n",
        "predicted_label=model.predict(mfccs_scaled_features)\n",
        "predictClass= np.argmax(predicted_label,axis=1)\n",
        "print(predictClass)\n",
        "#reshape_predicted = predicted_label.reshape((1,-1))\n",
        "#print(reshape_predicted)"
      ],
      "execution_count": null,
      "outputs": [
        {
          "output_type": "stream",
          "name": "stdout",
          "text": [
            "[-59.578934    63.90921      3.4584134   45.270702    -1.1458602\n",
            "  28.271238   -13.187001    23.603943    -6.63226     16.484814\n",
            "  -7.269998    14.494327    -5.7989316    8.181651    -6.8575335\n",
            "   6.7396636   -4.4808335    0.95436347  -7.1289334   -1.2653025\n",
            "  -3.600657     1.3596973   -0.11735395   4.6475053   -0.2599131\n",
            "   1.6817611   -0.80166984  -2.1436808    2.8634982   -1.2061265\n",
            "  -1.5157734   -3.6283112   -1.336045    -1.5045173   -0.2594879\n",
            "  -3.9020126   -1.2160751   -2.8634448   -1.6510885   -3.9587872 ]\n",
            "[-59.578934    63.90921      3.4584134   45.270702    -1.1458602\n",
            "  28.271238   -13.187001    23.603943    -6.63226     16.484814\n",
            "  -7.269998    14.494327    -5.7989316    8.181651    -6.8575335\n",
            "   6.7396636   -4.4808335    0.95436347  -7.1289334   -1.2653025\n",
            "  -3.600657     1.3596973   -0.11735395   4.6475053   -0.2599131\n",
            "   1.6817611   -0.80166984  -2.1436808    2.8634982   -1.2061265\n",
            "  -1.5157734   -3.6283112   -1.336045    -1.5045173   -0.2594879\n",
            "  -3.9020126   -1.2160751   -2.8634448   -1.6510885   -3.9587872 ]\n",
            "(1, 40)\n",
            "[4]\n"
          ]
        }
      ]
    },
    {
      "cell_type": "code",
      "metadata": {
        "id": "XorMuY_V_UQh",
        "colab": {
          "base_uri": "https://localhost:8080/"
        },
        "outputId": "2e4bbf48-7edf-4807-e44a-1486d2a98ba7"
      },
      "source": [
        "prediction_class =labelencoder.inverse_transform(predictClass) \n",
        "prediction_class"
      ],
      "execution_count": null,
      "outputs": [
        {
          "output_type": "execute_result",
          "data": {
            "text/plain": [
              "array(['hiphop'], dtype='<U9')"
            ]
          },
          "metadata": {},
          "execution_count": 54
        }
      ]
    }
  ]
}